{
 "cells": [
  {
   "cell_type": "code",
   "execution_count": 1,
   "metadata": {},
   "outputs": [],
   "source": [
    "# Importing Required Packages.\n",
    "import numpy as np\n",
    "import cvxpy as cp\n",
    "import numpy.linalg as LA"
   ]
  },
  {
   "cell_type": "code",
   "execution_count": 2,
   "metadata": {},
   "outputs": [
    {
     "data": {
      "text/plain": [
       "array([[ 0.        , -0.10989011,  0.10989011],\n",
       "       [-0.1       ,  0.02087912,  0.07912088],\n",
       "       [ 0.        ,  0.        ,  0.        ]])"
      ]
     },
     "execution_count": 2,
     "metadata": {},
     "output_type": "execute_result"
    }
   ],
   "source": [
    "Pr=np.array([[0, 0.9, 0.1],[0, 0.1, 0.9],[0, 0, 1]])\n",
    "Pb=np.array([[0, 1, 0],[0.1, 0, 0.9],[0, 0, 1]])\n",
    "gamma=0.9\n",
    "np.matmul(Pr-Pb,LA.inv(np.eye(3)-gamma*Pr))\n"
   ]
  },
  {
   "cell_type": "code",
   "execution_count": 27,
   "metadata": {},
   "outputs": [
    {
     "name": "stdout",
     "output_type": "stream",
     "text": [
      "[-7.42343227e-10 -1.26682703e-10  5.68652825e-01]\n"
     ]
    }
   ],
   "source": [
    "# Problem data.\n",
    "lamb=0.13\n",
    "\n",
    "# Construct the problem.\n",
    "r = cp.Variable(3)\n",
    "objective = cp.Minimize(0.03*r[1]+0.1*r[0]-0.13*r[2]+lamb*(cp.abs(r[0])+cp.abs(r[1])+cp.abs(r[2])))\n",
    "constraints = [-1 <= r, r <= 2,r[2]-r[1]>=0,0.7*r[1]+0.3*r[2]-r[0]>=0]\n",
    "prob = cp.Problem(objective, constraints)\n",
    "\n",
    "# The optimal objective value is returned by `prob.solve()`.\n",
    "result = prob.solve()\n",
    "# The optimal value for x is stored in `x.value`.\n",
    "print(r.value)\n",
    "# The optimal Lagrange multiplier for a constraint is stored in\n",
    "# `constraint.dual_value`.\n",
    "# print(constraints[0].dual_value)"
   ]
  },
  {
   "cell_type": "code",
   "execution_count": null,
   "metadata": {},
   "outputs": [],
   "source": []
  }
 ],
 "metadata": {
  "kernelspec": {
   "display_name": "convex_opt_ker",
   "language": "python",
   "name": "convex_opt_ker"
  },
  "language_info": {
   "codemirror_mode": {
    "name": "ipython",
    "version": 3
   },
   "file_extension": ".py",
   "mimetype": "text/x-python",
   "name": "python",
   "nbconvert_exporter": "python",
   "pygments_lexer": "ipython3",
   "version": "3.6.13"
  }
 },
 "nbformat": 4,
 "nbformat_minor": 4
}
